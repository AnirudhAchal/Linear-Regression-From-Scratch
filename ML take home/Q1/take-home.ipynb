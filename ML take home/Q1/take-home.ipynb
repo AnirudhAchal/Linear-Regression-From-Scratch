{
 "cells": [
  {
   "cell_type": "markdown",
   "metadata": {},
   "source": [
    "In this Notebook you guys will implement linear regression using NumPy\n",
    "\n",
    "We have provided hints along the way in the comments\n",
    "\n",
    "Some cells we have commented \"#DO NOT EDIT\" please do not edit these cells as they will be used for evaluating your assignment\n",
    "\n",
    "\n",
    "Any extra cells used must be commented to explain what is being done\n",
    "\n",
    "BEST OF LUCK !!\n",
    "\n",
    "\n",
    "\n"
   ]
  },
  {
   "cell_type": "code",
   "execution_count": 1,
   "metadata": {},
   "outputs": [],
   "source": [
    "#Importing neccessary libraries\n",
    "#do not import anything else\n",
    "\n",
    "import pandas as pd\n",
    "import matplotlib.pyplot as plt\n",
    "import numpy as np\n",
    "from sklearn.model_selection import train_test_split\n",
    "from sklearn.preprocessing import minmax_scale\n"
   ]
  },
  {
   "cell_type": "code",
   "execution_count": 2,
   "metadata": {},
   "outputs": [],
   "source": [
    "#import the dataset\n",
    "training_data_path = \".\\lin_reg_dataset\\dataset.csv\";\n",
    "data = pd.read_csv(training_data_path, index_col = 'Serial No.');"
   ]
  },
  {
   "cell_type": "code",
   "execution_count": 3,
   "metadata": {},
   "outputs": [
    {
     "data": {
      "text/html": [
       "<div>\n",
       "<style scoped>\n",
       "    .dataframe tbody tr th:only-of-type {\n",
       "        vertical-align: middle;\n",
       "    }\n",
       "\n",
       "    .dataframe tbody tr th {\n",
       "        vertical-align: top;\n",
       "    }\n",
       "\n",
       "    .dataframe thead th {\n",
       "        text-align: right;\n",
       "    }\n",
       "</style>\n",
       "<table border=\"1\" class=\"dataframe\">\n",
       "  <thead>\n",
       "    <tr style=\"text-align: right;\">\n",
       "      <th></th>\n",
       "      <th>varA</th>\n",
       "      <th>varB</th>\n",
       "      <th>varC</th>\n",
       "      <th>varD</th>\n",
       "      <th>varE</th>\n",
       "      <th>varF</th>\n",
       "      <th>Target</th>\n",
       "    </tr>\n",
       "    <tr>\n",
       "      <th>Serial No.</th>\n",
       "      <th></th>\n",
       "      <th></th>\n",
       "      <th></th>\n",
       "      <th></th>\n",
       "      <th></th>\n",
       "      <th></th>\n",
       "      <th></th>\n",
       "    </tr>\n",
       "  </thead>\n",
       "  <tbody>\n",
       "    <tr>\n",
       "      <th>1</th>\n",
       "      <td>337</td>\n",
       "      <td>118</td>\n",
       "      <td>4</td>\n",
       "      <td>4.5</td>\n",
       "      <td>4.5</td>\n",
       "      <td>9.65</td>\n",
       "      <td>0.92</td>\n",
       "    </tr>\n",
       "    <tr>\n",
       "      <th>2</th>\n",
       "      <td>324</td>\n",
       "      <td>107</td>\n",
       "      <td>4</td>\n",
       "      <td>4.0</td>\n",
       "      <td>4.5</td>\n",
       "      <td>8.87</td>\n",
       "      <td>0.76</td>\n",
       "    </tr>\n",
       "    <tr>\n",
       "      <th>3</th>\n",
       "      <td>316</td>\n",
       "      <td>104</td>\n",
       "      <td>3</td>\n",
       "      <td>3.0</td>\n",
       "      <td>3.5</td>\n",
       "      <td>8.00</td>\n",
       "      <td>0.72</td>\n",
       "    </tr>\n",
       "    <tr>\n",
       "      <th>4</th>\n",
       "      <td>322</td>\n",
       "      <td>110</td>\n",
       "      <td>3</td>\n",
       "      <td>3.5</td>\n",
       "      <td>2.5</td>\n",
       "      <td>8.67</td>\n",
       "      <td>0.80</td>\n",
       "    </tr>\n",
       "    <tr>\n",
       "      <th>5</th>\n",
       "      <td>314</td>\n",
       "      <td>103</td>\n",
       "      <td>2</td>\n",
       "      <td>2.0</td>\n",
       "      <td>3.0</td>\n",
       "      <td>8.21</td>\n",
       "      <td>0.65</td>\n",
       "    </tr>\n",
       "  </tbody>\n",
       "</table>\n",
       "</div>"
      ],
      "text/plain": [
       "            varA  varB  varC  varD  varE  varF  Target\n",
       "Serial No.                                            \n",
       "1            337   118     4   4.5   4.5  9.65    0.92\n",
       "2            324   107     4   4.0   4.5  8.87    0.76\n",
       "3            316   104     3   3.0   3.5  8.00    0.72\n",
       "4            322   110     3   3.5   2.5  8.67    0.80\n",
       "5            314   103     2   2.0   3.0  8.21    0.65"
      ]
     },
     "execution_count": 3,
     "metadata": {},
     "output_type": "execute_result"
    }
   ],
   "source": [
    "data.head()"
   ]
  },
  {
   "cell_type": "code",
   "execution_count": 42,
   "metadata": {},
   "outputs": [],
   "source": [
    "#Separate features and target variables\n",
    "y = data.loc[:, 'Target']\n",
    "X = data.loc[:, [column for column in data.columns if column != 'Target']]"
   ]
  },
  {
   "cell_type": "code",
   "execution_count": 43,
   "metadata": {},
   "outputs": [
    {
     "name": "stdout",
     "output_type": "stream",
     "text": [
      "Shape of X : (500, 6) \n",
      "Shape of y : (500, 1)\n"
     ]
    }
   ],
   "source": [
    "#Extra preproccesing if required\n",
    "#hint: you may need to use .to_numpy and reshape functions\n",
    "\n",
    "y = y.to_numpy().reshape(-1, 1);\n",
    "X = X.to_numpy()\n",
    "\n",
    "print(f\"Shape of X : {X.shape} \\nShape of y : {y.shape}\")"
   ]
  },
  {
   "cell_type": "code",
   "execution_count": 44,
   "metadata": {},
   "outputs": [],
   "source": [
    "#Split train and test dataset use test size=0.2 and random_state=1\n",
    "X_train,X_test,y_train,y_test = train_test_split(X, y, test_size = 0.2, random_state = 1)"
   ]
  },
  {
   "cell_type": "code",
   "execution_count": 71,
   "metadata": {},
   "outputs": [],
   "source": [
    "# Debug arrays\n",
    "debug_X = np.array([[1, 2, 3],\n",
    "                    [2, 3, 4]])\n",
    "debug_y = np.array([[2], [4]])\n",
    "debug_w = np.array([[2], [3], [1]])"
   ]
  },
  {
   "cell_type": "code",
   "execution_count": 72,
   "metadata": {},
   "outputs": [],
   "source": [
    "#Other preprocessing if required(transpose a matrix maybe?)\n"
   ]
  },
  {
   "cell_type": "code",
   "execution_count": 73,
   "metadata": {},
   "outputs": [
    {
     "name": "stdout",
     "output_type": "stream",
     "text": [
      "[[0.]\n",
      " [0.]\n",
      " [0.]]\n"
     ]
    }
   ],
   "source": [
    "#initialize weights\n",
    "#should return numpy array of weights and constant c\n",
    "def weights_init(x):\n",
    "    #your code here\n",
    "    weights = np.zeros(x.shape[1]).reshape(-1, 1)\n",
    "    return weights\n",
    "\n",
    "print(weights_init(debug_X))"
   ]
  },
  {
   "cell_type": "code",
   "execution_count": 74,
   "metadata": {},
   "outputs": [
    {
     "name": "stdout",
     "output_type": "stream",
     "text": [
      "[[11]\n",
      " [17]]\n"
     ]
    }
   ],
   "source": [
    "#Calculate Hypothesis\n",
    "def hypo(w,x):\n",
    "    #your code here\n",
    "    y_hat = x @ w\n",
    "    return y_hat\n",
    "\n",
    "print(hypo(debug_w, debug_X))"
   ]
  },
  {
   "cell_type": "code",
   "execution_count": 75,
   "metadata": {},
   "outputs": [
    {
     "name": "stdout",
     "output_type": "stream",
     "text": [
      "[10.]\n"
     ]
    }
   ],
   "source": [
    "#Calculate Cost\n",
    "#hint: use np.square\n",
    "def cost(y_hat,y):\n",
    "    #your code here\n",
    "    J = np.square(y_hat - y);\n",
    "    J = sum(J)\n",
    "    return J\n",
    "\n",
    "print(cost(np.ones(2).reshape(-1, 1), debug_y))"
   ]
  },
  {
   "cell_type": "code",
   "execution_count": null,
   "metadata": {},
   "outputs": [],
   "source": [
    "#Perform gradient descent\n",
    "def gradient_descent(w, X_temp, y_temp, y_hat, alpha):\n",
    "    #your code here \n",
    "    \n"
   ]
  },
  {
   "cell_type": "code",
   "execution_count": null,
   "metadata": {},
   "outputs": [],
   "source": [
    "#Assemble Your linear regression model \n",
    "#make it print cost after 25%,50%,75%,100% of the iterations are complete \n",
    "#also add an option to disable cost output and directly print cost after last iteration \n",
    "#hint use verbose as extra arguement of function\n",
    "#costs is array of all costs\n",
    "def lin_model_fit(x,y,alpha,iterations):\n",
    "    #your code here\n",
    "    \n",
    "    \n",
    "    \n",
    "    \n",
    "    return weights,constant,costs\n",
    "    \n"
   ]
  },
  {
   "cell_type": "code",
   "execution_count": null,
   "metadata": {},
   "outputs": [],
   "source": [
    "#Fit model to data\n",
    "# use alpha=0.01,iter=100\n"
   ]
  },
  {
   "cell_type": "code",
   "execution_count": null,
   "metadata": {},
   "outputs": [],
   "source": [
    "#Fit model to normalised data using minmaxscaler\n",
    "#use alpha=0.01,iter=100"
   ]
  },
  {
   "cell_type": "code",
   "execution_count": null,
   "metadata": {},
   "outputs": [],
   "source": [
    "#draw combined graph of above models of cost V/s iterations\n"
   ]
  },
  {
   "cell_type": "code",
   "execution_count": null,
   "metadata": {},
   "outputs": [],
   "source": [
    "#store best value of weights in weights_final\n",
    "weights_final="
   ]
  },
  {
   "cell_type": "code",
   "execution_count": null,
   "metadata": {},
   "outputs": [],
   "source": [
    "#write function to use model on data for prediction\n",
    "def predict(X,w):\n",
    "    #your code here\n",
    "    \n",
    "    \n",
    "    \n",
    "    return prediction"
   ]
  },
  {
   "cell_type": "code",
   "execution_count": null,
   "metadata": {},
   "outputs": [],
   "source": [
    "#Calculate accuracy \n",
    "\n",
    "def accuracy(y,y_hat):\n",
    "    \n",
    "    return acc"
   ]
  },
  {
   "cell_type": "code",
   "execution_count": null,
   "metadata": {},
   "outputs": [],
   "source": [
    "#call predict function to make predictions on test and train data\n",
    "#DO NOT EDIT\n",
    "pred_train=predict(X_train,weights_final)\n",
    "pred_test=predict(X_test,weights_final)\n"
   ]
  },
  {
   "cell_type": "code",
   "execution_count": null,
   "metadata": {},
   "outputs": [],
   "source": [
    "#DO NOT EDIT\n",
    "print(\"=============For train data:=============\")\n",
    "acc1=accuracy(Y_tr,pred_train)\n",
    "print(\"accuracy:\",acc1)\n",
    "print(\"\\n\\n=============For test data================\")\n",
    "acc2=accuracy(Y_ts,pred_test)\n",
    "print(\"accuracy:\",acc2)"
   ]
  },
  {
   "cell_type": "markdown",
   "metadata": {},
   "source": [
    "The below cells plot y_hat vs y\n",
    "The closer the plot is to a straight line;The better your model"
   ]
  },
  {
   "cell_type": "code",
   "execution_count": null,
   "metadata": {},
   "outputs": [],
   "source": [
    "plt.scatter(pred_train,Y_tr)\n",
    "plt.show()"
   ]
  },
  {
   "cell_type": "code",
   "execution_count": null,
   "metadata": {},
   "outputs": [],
   "source": [
    "plt.scatter(pred_test,Y_ts)\n",
    "plt.show()"
   ]
  },
  {
   "cell_type": "markdown",
   "metadata": {},
   "source": [
    "The Below questions are optional and can be done for brownie points"
   ]
  },
  {
   "cell_type": "code",
   "execution_count": null,
   "metadata": {},
   "outputs": [],
   "source": [
    "#Try out hyperparameter tuning for alpha"
   ]
  },
  {
   "cell_type": "code",
   "execution_count": null,
   "metadata": {},
   "outputs": [],
   "source": [
    "#Print your best accuracy acheived and hyperparameter value"
   ]
  }
 ],
 "metadata": {
  "kernelspec": {
   "display_name": "Python 3",
   "language": "python",
   "name": "python3"
  },
  "language_info": {
   "codemirror_mode": {
    "name": "ipython",
    "version": 3
   },
   "file_extension": ".py",
   "mimetype": "text/x-python",
   "name": "python",
   "nbconvert_exporter": "python",
   "pygments_lexer": "ipython3",
   "version": "3.7.6"
  }
 },
 "nbformat": 4,
 "nbformat_minor": 4
}
