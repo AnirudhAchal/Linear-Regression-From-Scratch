{
 "cells": [
  {
   "cell_type": "markdown",
   "metadata": {},
   "source": [
    "In this Notebook you guys will implement linear regression using NumPy\n",
    "\n",
    "We have provided hints along the way in the comments\n",
    "\n",
    "Some cells we have commented \"#DO NOT EDIT\" please do not edit these cells as they will be used for evaluating your assignment\n",
    "\n",
    "\n",
    "Any extra cells used must be commented to explain what is being done\n",
    "\n",
    "BEST OF LUCK !!\n",
    "\n",
    "\n",
    "\n"
   ]
  },
  {
   "cell_type": "code",
   "execution_count": 670,
   "metadata": {},
   "outputs": [],
   "source": [
    "# Importing neccessary libraries\n",
    "# Do not import anything else\n",
    "\n",
    "import pandas as pd\n",
    "import matplotlib.pyplot as plt\n",
    "import numpy as np\n",
    "from sklearn.model_selection import train_test_split\n",
    "from sklearn.preprocessing import MinMaxScaler\n"
   ]
  },
  {
   "cell_type": "code",
   "execution_count": 671,
   "metadata": {},
   "outputs": [],
   "source": [
    "# Import the dataset\n",
    "training_data_path = \".\\lin_reg_dataset\\dataset.csv\";\n",
    "data = pd.read_csv(training_data_path, index_col = 'Serial No.');"
   ]
  },
  {
   "cell_type": "code",
   "execution_count": 672,
   "metadata": {},
   "outputs": [
    {
     "data": {
      "text/html": [
       "<div>\n",
       "<style scoped>\n",
       "    .dataframe tbody tr th:only-of-type {\n",
       "        vertical-align: middle;\n",
       "    }\n",
       "\n",
       "    .dataframe tbody tr th {\n",
       "        vertical-align: top;\n",
       "    }\n",
       "\n",
       "    .dataframe thead th {\n",
       "        text-align: right;\n",
       "    }\n",
       "</style>\n",
       "<table border=\"1\" class=\"dataframe\">\n",
       "  <thead>\n",
       "    <tr style=\"text-align: right;\">\n",
       "      <th></th>\n",
       "      <th>varA</th>\n",
       "      <th>varB</th>\n",
       "      <th>varC</th>\n",
       "      <th>varD</th>\n",
       "      <th>varE</th>\n",
       "      <th>varF</th>\n",
       "      <th>Target</th>\n",
       "    </tr>\n",
       "    <tr>\n",
       "      <th>Serial No.</th>\n",
       "      <th></th>\n",
       "      <th></th>\n",
       "      <th></th>\n",
       "      <th></th>\n",
       "      <th></th>\n",
       "      <th></th>\n",
       "      <th></th>\n",
       "    </tr>\n",
       "  </thead>\n",
       "  <tbody>\n",
       "    <tr>\n",
       "      <th>1</th>\n",
       "      <td>337</td>\n",
       "      <td>118</td>\n",
       "      <td>4</td>\n",
       "      <td>4.5</td>\n",
       "      <td>4.5</td>\n",
       "      <td>9.65</td>\n",
       "      <td>0.92</td>\n",
       "    </tr>\n",
       "    <tr>\n",
       "      <th>2</th>\n",
       "      <td>324</td>\n",
       "      <td>107</td>\n",
       "      <td>4</td>\n",
       "      <td>4.0</td>\n",
       "      <td>4.5</td>\n",
       "      <td>8.87</td>\n",
       "      <td>0.76</td>\n",
       "    </tr>\n",
       "    <tr>\n",
       "      <th>3</th>\n",
       "      <td>316</td>\n",
       "      <td>104</td>\n",
       "      <td>3</td>\n",
       "      <td>3.0</td>\n",
       "      <td>3.5</td>\n",
       "      <td>8.00</td>\n",
       "      <td>0.72</td>\n",
       "    </tr>\n",
       "    <tr>\n",
       "      <th>4</th>\n",
       "      <td>322</td>\n",
       "      <td>110</td>\n",
       "      <td>3</td>\n",
       "      <td>3.5</td>\n",
       "      <td>2.5</td>\n",
       "      <td>8.67</td>\n",
       "      <td>0.80</td>\n",
       "    </tr>\n",
       "    <tr>\n",
       "      <th>5</th>\n",
       "      <td>314</td>\n",
       "      <td>103</td>\n",
       "      <td>2</td>\n",
       "      <td>2.0</td>\n",
       "      <td>3.0</td>\n",
       "      <td>8.21</td>\n",
       "      <td>0.65</td>\n",
       "    </tr>\n",
       "  </tbody>\n",
       "</table>\n",
       "</div>"
      ],
      "text/plain": [
       "            varA  varB  varC  varD  varE  varF  Target\n",
       "Serial No.                                            \n",
       "1            337   118     4   4.5   4.5  9.65    0.92\n",
       "2            324   107     4   4.0   4.5  8.87    0.76\n",
       "3            316   104     3   3.0   3.5  8.00    0.72\n",
       "4            322   110     3   3.5   2.5  8.67    0.80\n",
       "5            314   103     2   2.0   3.0  8.21    0.65"
      ]
     },
     "execution_count": 672,
     "metadata": {},
     "output_type": "execute_result"
    }
   ],
   "source": [
    "data.head()"
   ]
  },
  {
   "cell_type": "code",
   "execution_count": 673,
   "metadata": {},
   "outputs": [],
   "source": [
    "# Separate features and target variables\n",
    "y = data.loc[:, 'Target']\n",
    "X = data.loc[:, [column for column in data.columns if column != 'Target']]"
   ]
  },
  {
   "cell_type": "code",
   "execution_count": 674,
   "metadata": {},
   "outputs": [
    {
     "name": "stdout",
     "output_type": "stream",
     "text": [
      "Shape of X : (500, 6) \n",
      "Shape of y : (500, 1)\n"
     ]
    }
   ],
   "source": [
    "# Extra preproccesing if required\n",
    "# Hint: you may need to use .to_numpy and reshape functions\n",
    "\n",
    "y = y.to_numpy().reshape(-1, 1);\n",
    "X = X.to_numpy()\n",
    "\n",
    "print(f\"Shape of X : {X.shape} \\nShape of y : {y.shape}\")"
   ]
  },
  {
   "cell_type": "code",
   "execution_count": 675,
   "metadata": {},
   "outputs": [],
   "source": [
    "# Split train and test dataset use test size=0.2 and random_state=1\n",
    "X_train, X_test, y_train, y_test = train_test_split(X, y, test_size = 0.2, random_state = 1)"
   ]
  },
  {
   "cell_type": "code",
   "execution_count": 676,
   "metadata": {},
   "outputs": [],
   "source": [
    "# Debug arrays\n",
    "debug_X = np.array([[1, 2, 3],\n",
    "                    [2, 3, 4]])\n",
    "debug_y = np.array([[10], [4], [10]])\n",
    "debug_w = np.array([[2], [3], [1]])"
   ]
  },
  {
   "cell_type": "code",
   "execution_count": 677,
   "metadata": {},
   "outputs": [],
   "source": [
    "# Other preprocessing if required(transpose a matrix maybe?)\n",
    "# Not required"
   ]
  },
  {
   "cell_type": "code",
   "execution_count": 678,
   "metadata": {},
   "outputs": [
    {
     "name": "stdout",
     "output_type": "stream",
     "text": [
      "[[0.]\n",
      " [0.]\n",
      " [0.]]\n"
     ]
    }
   ],
   "source": [
    "# Initialize weights\n",
    "# Should return numpy array of weights and constant c\n",
    "def weights_init(X_temp):\n",
    "    # Your code here\n",
    "    weights = np.zeros(X_temp.shape[1]).reshape(-1, 1)\n",
    "    return weights\n",
    "\n",
    "print(weights_init(debug_X))"
   ]
  },
  {
   "cell_type": "code",
   "execution_count": 679,
   "metadata": {},
   "outputs": [
    {
     "name": "stdout",
     "output_type": "stream",
     "text": [
      "[[11]\n",
      " [17]]\n"
     ]
    }
   ],
   "source": [
    "# Calculate Hypothesis\n",
    "def hypo(theta, X_temp):\n",
    "    # Your code here\n",
    "    y_hat = X_temp @ theta\n",
    "    return y_hat\n",
    "\n",
    "print(hypo(debug_w, debug_X))"
   ]
  },
  {
   "cell_type": "code",
   "execution_count": 680,
   "metadata": {},
   "outputs": [
    {
     "name": "stdout",
     "output_type": "stream",
     "text": [
      "28.5\n"
     ]
    }
   ],
   "source": [
    "# Calculate Cost\n",
    "# Hint: use np.square\n",
    "def cost(y_hat, y_temp):\n",
    "    # Your code here\n",
    "    m = y_temp.shape[0]\n",
    "    J = np.square(y_hat - y_temp);\n",
    "    J = 1 / (2 * m) * float(sum(J))\n",
    "    return J\n",
    "\n",
    "print(cost(np.ones(3).reshape(-1, 1), debug_y))"
   ]
  },
  {
   "cell_type": "code",
   "execution_count": 681,
   "metadata": {},
   "outputs": [],
   "source": [
    "# Perform gradient descent\n",
    "def gradient_descent(theta, X_temp, y_temp, y_hat, alpha):\n",
    "    # Your code here \n",
    "    m = y_temp.shape[0]\n",
    "    theta -= alpha / m * np.transpose(X_temp) @ (y_hat - y_temp)\n",
    "    return theta\n"
   ]
  },
  {
   "cell_type": "code",
   "execution_count": 682,
   "metadata": {},
   "outputs": [],
   "source": [
    "# Assemble Your linear regression model \n",
    "# Make it print cost after 25%, 50%, 75%, 100% of the iterations are complete \n",
    "# Also add an option to disable cost output and directly print cost after last iteration \n",
    "# Hint: use verbose as extra arguement of function\n",
    "# Costs is array of all costs\n",
    "def lin_model_fit(X_temp, y_temp, alpha, iterations, verbose):\n",
    "    # Your code here\n",
    "    theta = weights_init(X_temp)\n",
    "    costs = []\n",
    "    for iteration in range(iterations):\n",
    "        theta = gradient_descent(theta, X_temp, y_temp, hypo(theta, X_temp), alpha)\n",
    "        J = cost(hypo(theta, X_temp), y_temp)\n",
    "        costs.append(J)\n",
    "        if iteration == int(iterations / 4) and verbose :\n",
    "            print(f\"Cost after {iteration} / {iterations} iterations : {J:.5f}\")\n",
    "        if iteration == int(iterations / 2) and verbose :\n",
    "            print(f\"Cost after {iteration} / {iterations} iterations : {J:.5f}\")\n",
    "        if iteration == int(3 * iterations / 4) and verbose :\n",
    "            print(f\"Cost after {iteration} / {iterations} iterations : {J:.5f}\")\n",
    "    \n",
    "    print(f\"Cost after {iterations} / {iterations} iterations : {J:.5f}\")\n",
    "    \n",
    "    return theta, J, costs\n",
    "    "
   ]
  },
  {
   "cell_type": "code",
   "execution_count": 683,
   "metadata": {},
   "outputs": [
    {
     "name": "stdout",
     "output_type": "stream",
     "text": [
      "Cost after 25 / 100 iterations : 79043022334823846587851241288158207899728798163333705247382285465824648231585242561281688923803734088982537067040734678277342332664060843781906533265698717696.00000\n",
      "Cost after 50 / 100 iterations : inf\n",
      "Cost after 75 / 100 iterations : inf\n",
      "Cost after 100 / 100 iterations : inf\n"
     ]
    },
    {
     "name": "stderr",
     "output_type": "stream",
     "text": [
      "C:\\Users\\Anirudh Achal\\anaconda3\\lib\\site-packages\\ipykernel_launcher.py:6: RuntimeWarning: overflow encountered in square\n",
      "  \n"
     ]
    }
   ],
   "source": [
    "# Fit model to data\n",
    "# Use alpha = 0.01, iter = 100\n",
    "_, _, costs_diverging = lin_model_fit(X_train, y_train, 0.01, 100, True);"
   ]
  },
  {
   "cell_type": "markdown",
   "metadata": {},
   "source": [
    "Without normalization gradient descent diverges for larger alpha. I will choose a much smaller alpha so that it can converge."
   ]
  },
  {
   "cell_type": "code",
   "execution_count": 684,
   "metadata": {},
   "outputs": [
    {
     "name": "stdout",
     "output_type": "stream",
     "text": [
      "Cost after 25 / 100 iterations : 0.00716\n",
      "Cost after 50 / 100 iterations : 0.00715\n",
      "Cost after 75 / 100 iterations : 0.00714\n",
      "Cost after 100 / 100 iterations : 0.00712\n"
     ]
    }
   ],
   "source": [
    "_, _ , unnormalized_costs = lin_model_fit(X_train, y_train, 0.00001, 100, True);"
   ]
  },
  {
   "cell_type": "code",
   "execution_count": 685,
   "metadata": {},
   "outputs": [],
   "source": [
    "# Normalize Data\n",
    "scaler = MinMaxScaler()\n",
    "scaler.fit(X)\n",
    "X = scaler.transform(X)\n",
    "\n",
    "X_train,X_test,y_train,y_test = train_test_split(X, y, test_size = 0.2, random_state = 1)"
   ]
  },
  {
   "cell_type": "code",
   "execution_count": 686,
   "metadata": {},
   "outputs": [
    {
     "name": "stdout",
     "output_type": "stream",
     "text": [
      "Cost after 25 / 100 iterations : 0.09501\n",
      "Cost after 50 / 100 iterations : 0.03925\n",
      "Cost after 75 / 100 iterations : 0.02027\n",
      "Cost after 100 / 100 iterations : 0.01394\n"
     ]
    }
   ],
   "source": [
    "# Fit model to normalised data using minmaxscaler\n",
    "# Use alpha = 0.01, iter = 100\n",
    "\n",
    "_, _, normalized_costs = lin_model_fit(X_train, y_train, 0.01, 100, True);"
   ]
  },
  {
   "cell_type": "code",
   "execution_count": 687,
   "metadata": {},
   "outputs": [
    {
     "data": {
      "image/png": "[encoded data removed]",
      "text/plain": [
       "<Figure size 1080x720 with 4 Axes>"
      ]
     },
     "metadata": {
      "needs_background": "light"
     },
     "output_type": "display_data"
    }
   ],
   "source": [
    "# Draw combined graph of above models of cost V/s iterations\n",
    "fig, axs = plt.subplots(2, 2, figsize = (15, 10))\n",
    "\n",
    "# Divering Model\n",
    "axs[0, 0].plot(costs_diverging)\n",
    "axs[0, 0].title.set_text(\"Diverging Model\")\n",
    "axs[0, 0].set_ylabel(\"Cost (J)\")\n",
    "axs[0, 0].set_xlabel(\"Iterations\")\n",
    "\n",
    "# Plot on data without normalization\n",
    "axs[0, 1].plot(unnormalized_costs, 'C2')\n",
    "axs[0, 1].title.set_text(\"Model with Unnormalized data\")\n",
    "axs[0, 1].set_ylabel(\"Cost (J)\")\n",
    "axs[0, 1].set_xlabel(\"Iterations\")\n",
    "\n",
    "# Plot on data without and with normalization\n",
    "axs[1, 0].plot(unnormalized_costs, 'C2', label = 'Unnormalized')\n",
    "axs[1, 0].plot(normalized_costs, 'C1', label = 'Normalized')\n",
    "axs[1, 0].title.set_text(\"Model with Unnormalized and Normalized data\")\n",
    "axs[1, 0].set_ylabel(\"Cost (J)\")\n",
    "axs[1, 0].set_xlabel(\"Iterations\")\n",
    "axs[1, 0].legend()\n",
    "\n",
    "# Plot on data with normalization\n",
    "axs[1, 1].plot(normalized_costs)\n",
    "axs[1, 1].title.set_text(\"Model with Normalized data\")\n",
    "axs[1, 1].set_ylabel(\"Cost (J)\")\n",
    "axs[1, 1].set_xlabel(\"Iterations\")\n",
    "\n",
    "plt.tight_layout()\n",
    "plt.show()"
   ]
  },
  {
   "cell_type": "markdown",
   "metadata": {},
   "source": [
    "We see that gradient descent works best for the normalized data. However it doesn't seem to have completely converged. I will run the linear regression on this normalized data for more iterations."
   ]
  },
  {
   "cell_type": "code",
   "execution_count": 688,
   "metadata": {},
   "outputs": [
    {
     "name": "stdout",
     "output_type": "stream",
     "text": [
      "Cost after 250 / 1000 iterations : 0.01026\n",
      "Cost after 500 / 1000 iterations : 0.00993\n",
      "Cost after 750 / 1000 iterations : 0.00966\n",
      "Cost after 1000 / 1000 iterations : 0.00941\n"
     ]
    },
    {
     "data": {
      "image/png": "[encoded data removed]",
      "text/plain": [
       "<Figure size 432x288 with 1 Axes>"
      ]
     },
     "metadata": {
      "needs_background": "light"
     },
     "output_type": "display_data"
    }
   ],
   "source": [
    "# Training data for more iterations\n",
    "final_theta, J, costs = lin_model_fit(X_train, y_train, 0.01, 1000, True);\n",
    "\n",
    "plt.plot(costs)\n",
    "plt.title('Final Model')\n",
    "plt.xlabel('Iterations')\n",
    "plt.ylabel('Cost (J)')\n",
    "plt.show()"
   ]
  },
  {
   "cell_type": "markdown",
   "metadata": {},
   "source": [
    "Clearly the cost function has now converged"
   ]
  },
  {
   "cell_type": "code",
   "execution_count": 689,
   "metadata": {},
   "outputs": [
    {
     "name": "stdout",
     "output_type": "stream",
     "text": [
      "[[0.20050284]\n",
      " [0.21120136]\n",
      " [0.10815878]\n",
      " [0.18359909]\n",
      " [0.24311266]\n",
      " [0.25620892]]\n"
     ]
    }
   ],
   "source": [
    "# Store best value of weights in weights_final\n",
    "weights_final = final_theta\n",
    "print(weights_final)"
   ]
  },
  {
   "cell_type": "code",
   "execution_count": 690,
   "metadata": {},
   "outputs": [],
   "source": [
    "# Write function to use model on data for prediction\n",
    "def predict(X_temp, theta):\n",
    "    # Your code here\n",
    "    prediction = hypo(theta, X_temp)\n",
    "    return prediction"
   ]
  },
  {
   "cell_type": "code",
   "execution_count": 691,
   "metadata": {},
   "outputs": [],
   "source": [
    "# Calculate accuracy (RMS)\n",
    "def accuracy(y_temp, y_hat):\n",
    "    acc = np.sqrt(1 / (y_temp.shape[0]) * float(sum(np.square(y_temp - y_hat))))\n",
    "    return acc"
   ]
  },
  {
   "cell_type": "code",
   "execution_count": 692,
   "metadata": {},
   "outputs": [],
   "source": [
    "# Call predict function to make predictions on test and train data\n",
    "# DO NOT EDIT\n",
    "pred_train=predict(X_train, weights_final)\n",
    "pred_test=predict(X_test, weights_final)\n"
   ]
  },
  {
   "cell_type": "code",
   "execution_count": 693,
   "metadata": {},
   "outputs": [
    {
     "name": "stdout",
     "output_type": "stream",
     "text": [
      "=============For train data:=============\n",
      "accuracy: 0.13722\n",
      "\n",
      "\n",
      "=============For test data================\n",
      "accuracy: 0.11613\n"
     ]
    }
   ],
   "source": [
    "# DO NOT EDIT\n",
    "print(\"=============For train data:=============\")\n",
    "acc1=accuracy(y_train, pred_train)\n",
    "print(\"accuracy: %.5f\" %(acc1))\n",
    "print(\"\\n\\n=============For test data================\")\n",
    "acc2=accuracy(y_test, pred_test)\n",
    "print(\"accuracy: %.5f\" %(acc2))"
   ]
  },
  {
   "cell_type": "markdown",
   "metadata": {},
   "source": [
    "The below cells plot y_hat vs y\n",
    "The closer the plot is to a straight line;The better your model"
   ]
  },
  {
   "cell_type": "code",
   "execution_count": 694,
   "metadata": {
    "scrolled": true
   },
   "outputs": [
    {
     "data": {
      "image/png": "[encoded data removed]",
      "text/plain": [
       "<Figure size 432x288 with 1 Axes>"
      ]
     },
     "metadata": {
      "needs_background": "light"
     },
     "output_type": "display_data"
    }
   ],
   "source": [
    "plt.scatter(pred_train, y_train)\n",
    "plt.show()"
   ]
  },
  {
   "cell_type": "code",
   "execution_count": 695,
   "metadata": {},
   "outputs": [
    {
     "data": {
      "image/png": "[encoded data removed]",
      "text/plain": [
       "<Figure size 432x288 with 1 Axes>"
      ]
     },
     "metadata": {
      "needs_background": "light"
     },
     "output_type": "display_data"
    }
   ],
   "source": [
    "plt.scatter(pred_test, y_test)\n",
    "plt.show()"
   ]
  },
  {
   "cell_type": "markdown",
   "metadata": {},
   "source": [
    "### Adding Regularization to Linear Regression"
   ]
  },
  {
   "cell_type": "code",
   "execution_count": 696,
   "metadata": {},
   "outputs": [],
   "source": [
    "def cost_regularized(y_hat, y_temp, L, theta):\n",
    "    # Your code here\n",
    "    m = y_temp.shape[0]\n",
    "    J = 1 / (2 * m) * (float(sum(np.square(y_hat - y_temp))) + L * float(sum(np.square(theta))))\n",
    "    return J\n"
   ]
  },
  {
   "cell_type": "code",
   "execution_count": 697,
   "metadata": {},
   "outputs": [],
   "source": [
    "# Perform gradient descent\n",
    "def gradient_descent_regularized(theta, X_temp, y_temp, y_hat, alpha, L):\n",
    "    # Your code here \n",
    "    m = y_temp.shape[0]\n",
    "    theta -= alpha / m * (np.transpose(X_temp) @ (y_hat - y_temp) + L * theta)\n",
    "    return theta\n"
   ]
  },
  {
   "cell_type": "code",
   "execution_count": 698,
   "metadata": {},
   "outputs": [],
   "source": [
    "# Assemble Your linear regression model \n",
    "# Make it print cost after 25%,50%,75%,100% of the iterations are complete \n",
    "# Also add an option to disable cost output and directly print cost after last iteration \n",
    "# Hint use verbose as extra arguement of function\n",
    "# Costs is array of all costs\n",
    "def lin_model_fit_regularized(X_temp, y_temp, alpha, iterations, verbose, L):\n",
    "    # Your code here\n",
    "    theta = weights_init(X_temp)\n",
    "    costs = []\n",
    "    for iteration in range(iterations):\n",
    "        theta = gradient_descent_regularized(theta, X_temp, y_temp, hypo(theta, X_temp), alpha, L)\n",
    "        J = cost_regularized(hypo(theta, X_temp), y_temp, L, theta)\n",
    "        costs.append(J)\n",
    "        if iteration == int(iterations / 4) and verbose :\n",
    "            print(f\"Cost after {iteration} / {iterations} iterations : {J:.5f}\")\n",
    "        if iteration == int(iterations / 2) and verbose :\n",
    "            print(f\"Cost after {iteration} / {iterations} iterations : {J:.5f}\")\n",
    "        if iteration == int(3 * iterations / 4) and verbose :\n",
    "            print(f\"Cost after {iteration} / {iterations} iterations : {J:.5f}\")\n",
    "    \n",
    "    print(f\"Cost after {iterations} / {iterations} iterations : {J:.5f}\")\n",
    "    \n",
    "    return theta, J, costs"
   ]
  },
  {
   "cell_type": "code",
   "execution_count": 699,
   "metadata": {},
   "outputs": [
    {
     "name": "stdout",
     "output_type": "stream",
     "text": [
      "Cost after 250 / 1000 iterations : 0.01328\n",
      "Cost after 500 / 1000 iterations : 0.01301\n",
      "Cost after 750 / 1000 iterations : 0.01281\n",
      "Cost after 1000 / 1000 iterations : 0.01265\n"
     ]
    },
    {
     "data": {
      "image/png": "[encoded data removed]",
      "text/plain": [
       "<Figure size 432x288 with 1 Axes>"
      ]
     },
     "metadata": {
      "needs_background": "light"
     },
     "output_type": "display_data"
    }
   ],
   "source": [
    "final_theta_reg, J_reg, costs_reg = lin_model_fit_regularized(X_train, y_train, 0.01, 1000, True, 10);\n",
    "\n",
    "plt.plot(costs_reg)\n",
    "plt.title('Final Model')\n",
    "plt.xlabel('Iterations')\n",
    "plt.ylabel('Cost (J)')\n",
    "plt.show()"
   ]
  },
  {
   "cell_type": "code",
   "execution_count": 700,
   "metadata": {},
   "outputs": [
    {
     "name": "stdout",
     "output_type": "stream",
     "text": [
      "[[0.1970579 ]\n",
      " [0.20717177]\n",
      " [0.11510871]\n",
      " [0.18426439]\n",
      " [0.23793302]\n",
      " [0.24759111]]\n"
     ]
    }
   ],
   "source": [
    "weights_final_reg = final_theta_reg\n",
    "print(weights_final_reg)\n",
    "\n",
    "pred_train_reg = predict(X_train, weights_final_reg)\n",
    "pred_test_reg = predict(X_test, weights_final_reg)"
   ]
  },
  {
   "cell_type": "code",
   "execution_count": 701,
   "metadata": {},
   "outputs": [
    {
     "name": "stdout",
     "output_type": "stream",
     "text": [
      "=============For train data:=============\n",
      "accuracy: 0.13832\n",
      "\n",
      "\n",
      "=============For test data================\n",
      "accuracy: 0.11681\n"
     ]
    }
   ],
   "source": [
    "# DO NOT EDIT\n",
    "print(\"=============For train data:=============\")\n",
    "acc1 = accuracy(y_train, pred_train_reg)\n",
    "print(\"accuracy: %.5f\" %(acc1))\n",
    "print(\"\\n\\n=============For test data================\")\n",
    "acc2 = accuracy(y_test, pred_test_reg)\n",
    "print(\"accuracy: %.5f\" %(acc2))"
   ]
  },
  {
   "cell_type": "code",
   "execution_count": 702,
   "metadata": {},
   "outputs": [
    {
     "data": {
      "image/png": "[encoded data removed]",
      "text/plain": [
       "<Figure size 432x288 with 1 Axes>"
      ]
     },
     "metadata": {
      "needs_background": "light"
     },
     "output_type": "display_data"
    }
   ],
   "source": [
    "plt.scatter(pred_train_reg, y_train)\n",
    "plt.show()"
   ]
  },
  {
   "cell_type": "code",
   "execution_count": 703,
   "metadata": {},
   "outputs": [
    {
     "data": {
      "image/png": "[encoded data removed]",
      "text/plain": [
       "<Figure size 432x288 with 1 Axes>"
      ]
     },
     "metadata": {
      "needs_background": "light"
     },
     "output_type": "display_data"
    }
   ],
   "source": [
    "plt.scatter(pred_test_reg, y_test)\n",
    "plt.show()"
   ]
  },
  {
   "cell_type": "markdown",
   "metadata": {},
   "source": [
    "Regularization does not seem be improving the model accuracy. Since the model was originally performing well for test data, this was expected."
   ]
  },
  {
   "cell_type": "markdown",
   "metadata": {},
   "source": [
    "The Below questions are optional and can be done for brownie points"
   ]
  },
  {
   "cell_type": "code",
   "execution_count": 704,
   "metadata": {},
   "outputs": [
    {
     "name": "stdout",
     "output_type": "stream",
     "text": [
      "Cost after 1000 / 1000 iterations : 0.01367\n",
      "Cost after 1000 / 1000 iterations : 0.01389\n",
      "Cost after 1000 / 1000 iterations : 0.01335\n",
      "Cost after 1000 / 1000 iterations : 0.01386\n",
      "Best cost for alpha : 0.01 ==> 0.00968\n",
      "\n",
      "Cost after 1000 / 1000 iterations : 0.01754\n",
      "Cost after 1000 / 1000 iterations : 0.01790\n",
      "Cost after 1000 / 1000 iterations : 0.01750\n",
      "Cost after 1000 / 1000 iterations : 0.01824\n",
      "Best cost for alpha : 0.001 ==> 0.01475\n",
      "\n",
      "Cost after 1000 / 1000 iterations : 0.01330\n",
      "Cost after 1000 / 1000 iterations : 0.01345\n",
      "Cost after 1000 / 1000 iterations : 0.01296\n",
      "Cost after 1000 / 1000 iterations : 0.01348\n",
      "Best cost for alpha : 0.5 ==> 0.00875\n",
      "\n",
      "Cost after 1000 / 1000 iterations : 605201833885885448869550593624572969746827146458118975202054707108698685895181348247845022395042057278131575588908881203310730958499573682098250135736770856769523023872.00000\n",
      "Cost after 1000 / 1000 iterations : 23946752670262120848461202756765245250046414415095839737070367348720958990947126877361372923453589435146271840063860105628797833029122054627181581041664.00000\n",
      "Cost after 1000 / 1000 iterations : 4497487457931109524957714028143106640399649277129378824467457336083776111472032880265782749313879915215597297600527480156479029248.00000\n",
      "Cost after 1000 / 1000 iterations : 37739761655462366562078695139878608075845625473462956583874409042878081410707136446464.00000\n",
      "Best cost for alpha : 1 ==> 136377464880669574857274397251936330134493476650494420059039553902136432070328902151893726708444308945637012443759264501779895538514663119948474832192053870288516939776.00000\n",
      "\n",
      "Best Alpha : 0.5\n",
      "\n",
      "Training with best alpha...\n",
      "\n",
      "Cost after 2500 / 10000 iterations : 0.01211\n",
      "Cost after 5000 / 10000 iterations : 0.01211\n",
      "Cost after 7500 / 10000 iterations : 0.01211\n",
      "Cost after 10000 / 10000 iterations : 0.01211\n",
      "\n",
      "Best Cost overall (using alpha: 0.5) : 0.01211\n"
     ]
    }
   ],
   "source": [
    "# Try out hyperparameter tuning for alpha\n",
    "def Kfold_cross_validation(X_temp, y_temp, alphas, cv):\n",
    "    validation_size = y_temp.shape[0] // cv\n",
    "    best_theta = []\n",
    "    best_alpha = np.Infinity\n",
    "    best_cost = np.Infinity\n",
    "    for alpha in alphas:\n",
    "        \n",
    "        # Average cost for this alpha\n",
    "        cost_test = 0\n",
    "        \n",
    "        # Testing each of the input alpha\n",
    "        for validation_round in range(cv):\n",
    "            \n",
    "            # Splitting Data into Test Train\n",
    "            test_rows = np.array(range(validation_round * validation_size, min((validation_round + 1) * validation_size, y_temp.shape[0])))\n",
    "            train_rows = np.array([x for x in range(0, y_temp.shape[0]) if x not in range(validation_round * validation_size, min((validation_round + 1) * validation_size, y_temp.shape[0]))])\n",
    "            X_train_temp = X_temp[train_rows, :]\n",
    "            X_test_temp = X_temp[test_rows, :]\n",
    "            y_train_temp = y_temp[train_rows, :]\n",
    "            y_test_temp = y_temp[test_rows, :]\n",
    "            \n",
    "            theta_reg_cv, J_reg_cv, costs_reg_cv = lin_model_fit_regularized(X_train_temp, y_train_temp, alpha, 1000, False, 10);\n",
    "            cost_test += cost(hypo(theta_reg_cv, X_test_temp), y_test_temp) \n",
    "            \n",
    "        cost_test /= cv\n",
    "        print(f\"Best cost for alpha : {alpha} ==> {cost_test:.5f}\\n\")\n",
    "        \n",
    "        # Updating new best cost\n",
    "        if(cost_test < best_cost):\n",
    "            best_alpha = alpha\n",
    "            best_cost = cost_test\n",
    "            \n",
    "    print(f\"Best Alpha : {best_alpha}\\n\")\n",
    "    print(\"Training with best alpha...\\n\")\n",
    "    best_theta, best_cost, _ = lin_model_fit_regularized(X_train, y_train, best_alpha, 10000, True, 10);\n",
    "    print(f\"\\nBest Cost overall (using alpha: {best_alpha}) : {best_cost:.5f}\")\n",
    "        \n",
    "    return best_alpha, best_cost, best_theta\n",
    "\n",
    "alpha, _, best_theta_reg_cv = Kfold_cross_validation(X_train, y_train, [0.01, 0.001, 0.5, 1], 4);"
   ]
  },
  {
   "cell_type": "code",
   "execution_count": 705,
   "metadata": {},
   "outputs": [
    {
     "name": "stdout",
     "output_type": "stream",
     "text": [
      "[[0.19059571]\n",
      " [0.21381119]\n",
      " [0.01603226]\n",
      " [0.14791169]\n",
      " [0.26444208]\n",
      " [0.35192954]]\n",
      "=============For train data:=============\n",
      "accuracy: 0.12950\n",
      "\n",
      "\n",
      "=============For test data================\n",
      "accuracy: 0.11220\n"
     ]
    }
   ],
   "source": [
    "# Print your best accuracy acheived and hyperparameter value\n",
    "weights_final_reg_cv = best_theta_reg_cv\n",
    "print(weights_final_reg_cv)\n",
    "pred_train_reg = predict(X_train, weights_final_reg_cv)\n",
    "pred_test_reg = predict(X_test, weights_final_reg_cv)\n",
    "\n",
    "# DO NOT EDIT\n",
    "print(\"=============For train data:=============\")\n",
    "acc1 = accuracy(y_train, pred_train_reg)\n",
    "print(\"accuracy: %.5f\" %(acc1))\n",
    "print(\"\\n\\n=============For test data================\")\n",
    "acc2 = accuracy(y_test, pred_test_reg)\n",
    "print(\"accuracy: %.5f\" %(acc2))\n"
   ]
  },
  {
   "cell_type": "code",
   "execution_count": 706,
   "metadata": {},
   "outputs": [
    {
     "data": {
      "image/png": "[encoded data removed]",
      "text/plain": [
       "<Figure size 432x288 with 1 Axes>"
      ]
     },
     "metadata": {
      "needs_background": "light"
     },
     "output_type": "display_data"
    }
   ],
   "source": [
    "plt.scatter(pred_train_reg, y_train)\n",
    "plt.show()"
   ]
  },
  {
   "cell_type": "code",
   "execution_count": 707,
   "metadata": {},
   "outputs": [
    {
     "data": {
      "image/png": "[encoded data removed]",
      "text/plain": [
       "<Figure size 432x288 with 1 Axes>"
      ]
     },
     "metadata": {
      "needs_background": "light"
     },
     "output_type": "display_data"
    }
   ],
   "source": [
    "plt.scatter(pred_test_reg, y_test)\n",
    "plt.show()"
   ]
  },
  {
   "cell_type": "markdown",
   "metadata": {},
   "source": [
    "The Best alpha found after hyperparameter tunig was alpha = 0.5.\n",
    "\n",
    "Overall Best Accuracy (lowest Error (Root mean square Error)) for Training Data : 0.12950\n",
    "\n",
    "Overall Best Accuracy (lowest Error (Root mean square Error)) for Test Data : 0.11220"
   ]
  },
  {
   "cell_type": "markdown",
   "metadata": {},
   "source": [
    "# This is the work of Anirudh Achal"
   ]
  }
 ],
 "metadata": {
  "kernelspec": {
   "display_name": "Python 3",
   "language": "python",
   "name": "python3"
  },
  "language_info": {
   "codemirror_mode": {
    "name": "ipython",
    "version": 3
   },
   "file_extension": ".py",
   "mimetype": "text/x-python",
   "name": "python",
   "nbconvert_exporter": "python",
   "pygments_lexer": "ipython3",
   "version": "3.7.6"
  }
 },
 "nbformat": 4,
 "nbformat_minor": 4
}
