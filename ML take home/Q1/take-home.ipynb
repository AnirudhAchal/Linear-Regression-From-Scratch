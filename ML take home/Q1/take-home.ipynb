{
 "cells": [
  {
   "cell_type": "markdown",
   "metadata": {},
   "source": [
    "In this Notebook you guys will implement linear regression using NumPy\n",
    "\n",
    "We have provided hints along the way in the comments\n",
    "\n",
    "Some cells we have commented \"#DO NOT EDIT\" please do not edit these cells as they will be used for evaluating your assignment\n",
    "\n",
    "\n",
    "Any extra cells used must be commented to explain what is being done\n",
    "\n",
    "BEST OF LUCK !!\n",
    "\n",
    "\n",
    "\n"
   ]
  },
  {
   "cell_type": "code",
   "execution_count": 153,
   "metadata": {},
   "outputs": [],
   "source": [
    "#Importing neccessary libraries\n",
    "#do not import anything else\n",
    "\n",
    "import pandas as pd\n",
    "import matplotlib.pyplot as plt\n",
    "import numpy as np\n",
    "from sklearn.model_selection import train_test_split\n",
    "from sklearn.preprocessing import MinMaxScaler\n"
   ]
  },
  {
   "cell_type": "code",
   "execution_count": 2,
   "metadata": {},
   "outputs": [],
   "source": [
    "#import the dataset\n",
    "training_data_path = \".\\lin_reg_dataset\\dataset.csv\";\n",
    "data = pd.read_csv(training_data_path, index_col = 'Serial No.');"
   ]
  },
  {
   "cell_type": "code",
   "execution_count": 3,
   "metadata": {},
   "outputs": [
    {
     "data": {
      "text/html": [
       "<div>\n",
       "<style scoped>\n",
       "    .dataframe tbody tr th:only-of-type {\n",
       "        vertical-align: middle;\n",
       "    }\n",
       "\n",
       "    .dataframe tbody tr th {\n",
       "        vertical-align: top;\n",
       "    }\n",
       "\n",
       "    .dataframe thead th {\n",
       "        text-align: right;\n",
       "    }\n",
       "</style>\n",
       "<table border=\"1\" class=\"dataframe\">\n",
       "  <thead>\n",
       "    <tr style=\"text-align: right;\">\n",
       "      <th></th>\n",
       "      <th>varA</th>\n",
       "      <th>varB</th>\n",
       "      <th>varC</th>\n",
       "      <th>varD</th>\n",
       "      <th>varE</th>\n",
       "      <th>varF</th>\n",
       "      <th>Target</th>\n",
       "    </tr>\n",
       "    <tr>\n",
       "      <th>Serial No.</th>\n",
       "      <th></th>\n",
       "      <th></th>\n",
       "      <th></th>\n",
       "      <th></th>\n",
       "      <th></th>\n",
       "      <th></th>\n",
       "      <th></th>\n",
       "    </tr>\n",
       "  </thead>\n",
       "  <tbody>\n",
       "    <tr>\n",
       "      <th>1</th>\n",
       "      <td>337</td>\n",
       "      <td>118</td>\n",
       "      <td>4</td>\n",
       "      <td>4.5</td>\n",
       "      <td>4.5</td>\n",
       "      <td>9.65</td>\n",
       "      <td>0.92</td>\n",
       "    </tr>\n",
       "    <tr>\n",
       "      <th>2</th>\n",
       "      <td>324</td>\n",
       "      <td>107</td>\n",
       "      <td>4</td>\n",
       "      <td>4.0</td>\n",
       "      <td>4.5</td>\n",
       "      <td>8.87</td>\n",
       "      <td>0.76</td>\n",
       "    </tr>\n",
       "    <tr>\n",
       "      <th>3</th>\n",
       "      <td>316</td>\n",
       "      <td>104</td>\n",
       "      <td>3</td>\n",
       "      <td>3.0</td>\n",
       "      <td>3.5</td>\n",
       "      <td>8.00</td>\n",
       "      <td>0.72</td>\n",
       "    </tr>\n",
       "    <tr>\n",
       "      <th>4</th>\n",
       "      <td>322</td>\n",
       "      <td>110</td>\n",
       "      <td>3</td>\n",
       "      <td>3.5</td>\n",
       "      <td>2.5</td>\n",
       "      <td>8.67</td>\n",
       "      <td>0.80</td>\n",
       "    </tr>\n",
       "    <tr>\n",
       "      <th>5</th>\n",
       "      <td>314</td>\n",
       "      <td>103</td>\n",
       "      <td>2</td>\n",
       "      <td>2.0</td>\n",
       "      <td>3.0</td>\n",
       "      <td>8.21</td>\n",
       "      <td>0.65</td>\n",
       "    </tr>\n",
       "  </tbody>\n",
       "</table>\n",
       "</div>"
      ],
      "text/plain": [
       "            varA  varB  varC  varD  varE  varF  Target\n",
       "Serial No.                                            \n",
       "1            337   118     4   4.5   4.5  9.65    0.92\n",
       "2            324   107     4   4.0   4.5  8.87    0.76\n",
       "3            316   104     3   3.0   3.5  8.00    0.72\n",
       "4            322   110     3   3.5   2.5  8.67    0.80\n",
       "5            314   103     2   2.0   3.0  8.21    0.65"
      ]
     },
     "execution_count": 3,
     "metadata": {},
     "output_type": "execute_result"
    }
   ],
   "source": [
    "data.head()"
   ]
  },
  {
   "cell_type": "code",
   "execution_count": 186,
   "metadata": {},
   "outputs": [],
   "source": [
    "#Separate features and target variables\n",
    "y = data.loc[:, 'Target']\n",
    "X = data.loc[:, [column for column in data.columns if column != 'Target']]"
   ]
  },
  {
   "cell_type": "code",
   "execution_count": 187,
   "metadata": {},
   "outputs": [
    {
     "name": "stdout",
     "output_type": "stream",
     "text": [
      "Shape of X : (500, 6) \n",
      "Shape of y : (500, 1)\n"
     ]
    }
   ],
   "source": [
    "#Extra preproccesing if required\n",
    "#hint: you may need to use .to_numpy and reshape functions\n",
    "\n",
    "y = y.to_numpy().reshape(-1, 1);\n",
    "X = X.to_numpy()\n",
    "\n",
    "print(f\"Shape of X : {X.shape} \\nShape of y : {y.shape}\")"
   ]
  },
  {
   "cell_type": "code",
   "execution_count": 188,
   "metadata": {},
   "outputs": [],
   "source": [
    "#Split train and test dataset use test size=0.2 and random_state=1\n",
    "X_train,X_test,y_train,y_test = train_test_split(X, y, test_size = 0.2, random_state = 1)"
   ]
  },
  {
   "cell_type": "code",
   "execution_count": 161,
   "metadata": {},
   "outputs": [],
   "source": [
    "# Debug arrays\n",
    "debug_X = np.array([[1, 2, 3],\n",
    "                    [2, 3, 4]])\n",
    "debug_y = np.array([[10], [4], [10]])\n",
    "debug_w = np.array([[2], [3], [1]])"
   ]
  },
  {
   "cell_type": "code",
   "execution_count": 120,
   "metadata": {},
   "outputs": [],
   "source": [
    "#Other preprocessing if required(transpose a matrix maybe?)\n"
   ]
  },
  {
   "cell_type": "code",
   "execution_count": 121,
   "metadata": {},
   "outputs": [
    {
     "name": "stdout",
     "output_type": "stream",
     "text": [
      "[[0.]\n",
      " [0.]\n",
      " [0.]]\n"
     ]
    }
   ],
   "source": [
    "#initialize weights\n",
    "#should return numpy array of weights and constant c\n",
    "def weights_init(X_temp):\n",
    "    #your code here\n",
    "    weights = np.zeros(X_temp.shape[1]).reshape(-1, 1)\n",
    "    return weights\n",
    "\n",
    "print(weights_init(debug_X))"
   ]
  },
  {
   "cell_type": "code",
   "execution_count": 122,
   "metadata": {},
   "outputs": [
    {
     "name": "stdout",
     "output_type": "stream",
     "text": [
      "[[11]\n",
      " [17]]\n"
     ]
    }
   ],
   "source": [
    "#Calculate Hypothesis\n",
    "def hypo(theta, X_temp):\n",
    "    #your code here\n",
    "    y_hat = X_temp @ theta\n",
    "    return y_hat\n",
    "\n",
    "print(hypo(debug_w, debug_X))"
   ]
  },
  {
   "cell_type": "code",
   "execution_count": 165,
   "metadata": {},
   "outputs": [
    {
     "name": "stdout",
     "output_type": "stream",
     "text": [
      "28.5\n"
     ]
    }
   ],
   "source": [
    "#Calculate Cost\n",
    "#hint: use np.square\n",
    "def cost(y_hat,y_temp):\n",
    "    #your code here\n",
    "    m = y_temp.shape[0]\n",
    "    J = np.square(y_hat - y_temp);\n",
    "    J = 1 / (2 * m) * float(sum(J))\n",
    "    return J\n",
    "\n",
    "print(cost(np.ones(3).reshape(-1, 1), debug_y))"
   ]
  },
  {
   "cell_type": "code",
   "execution_count": 166,
   "metadata": {},
   "outputs": [],
   "source": [
    "#Perform gradient descent\n",
    "def gradient_descent(w, X_temp, y_temp, y_hat, alpha):\n",
    "    #your code here \n",
    "    m = y_temp.shape[0]\n",
    "    w -= alpha / m * np.transpose(X_temp) @ (y_hat - y_temp)\n",
    "    #print(np.transpose(X_temp) @ (y_hat - y_temp))\n",
    "    return w\n"
   ]
  },
  {
   "cell_type": "code",
   "execution_count": 167,
   "metadata": {},
   "outputs": [],
   "source": [
    "#Assemble Your linear regression model \n",
    "#make it print cost after 25%,50%,75%,100% of the iterations are complete \n",
    "#also add an option to disable cost output and directly print cost after last iteration \n",
    "#hint use verbose as extra arguement of function\n",
    "#costs is array of all costs\n",
    "def lin_model_fit(X_temp, y_temp, alpha, iterations, verbose):\n",
    "    #your code here\n",
    "    theta = weights_init(X_temp)\n",
    "    for iteration in range(iterations):\n",
    "        theta = gradient_descent(theta, X_temp, y_temp, hypo(theta, X_temp), alpha)\n",
    "        # print(theta)\n",
    "        J = cost(hypo(theta, X_temp), y_temp)\n",
    "    \n",
    "        if iteration == int(iterations / 4) and verbose :\n",
    "            print(f\"Cost after {iteration} / {iterations} iteration : {J}\")\n",
    "        if iteration == int(iterations / 2) and verbose :\n",
    "            print(f\"Cost after {iteration} / {iterations} iteration : {J}\")\n",
    "        if iteration == int(3 * iterations / 4) and verbose :\n",
    "            print(f\"Cost after {iteration} / {iterations} iteration : {J}\")\n",
    "    \n",
    "    print(f\"Cost after {iterations} / {iterations} iteration : {J}\")\n",
    "    \n",
    "    costs = []\n",
    "    \n",
    "    for data, prediction in zip(X_temp, y_temp):\n",
    "        costs.append(cost(hypo(theta, data), prediction))\n",
    "\n",
    "    return theta, J, costs\n",
    "    "
   ]
  },
  {
   "cell_type": "code",
   "execution_count": 192,
   "metadata": {},
   "outputs": [
    {
     "name": "stdout",
     "output_type": "stream",
     "text": [
      "Cost after 25 / 100 intertation : 7.904302233482385e+157\n",
      "Cost after 50 / 100 intertation : inf\n",
      "Cost after 75 / 100 intertation : inf\n",
      "Cost after 100 / 100 intertation : inf\n"
     ]
    },
    {
     "name": "stderr",
     "output_type": "stream",
     "text": [
      "C:\\Users\\Anirudh Achal\\anaconda3\\lib\\site-packages\\ipykernel_launcher.py:6: RuntimeWarning: overflow encountered in square\n",
      "  \n"
     ]
    }
   ],
   "source": [
    "#Fit model to data\n",
    "# use alpha=0.01,iter=100\n",
    "lin_model_fit(X_train, y_train, 0.01, 100, True);"
   ]
  },
  {
   "cell_type": "code",
   "execution_count": 193,
   "metadata": {},
   "outputs": [],
   "source": [
    "# Normalize Data\n",
    "scaler = MinMaxScaler()\n",
    "scaler.fit(X_train)\n",
    "X_train = scaler.transform(X_train)"
   ]
  },
  {
   "cell_type": "code",
   "execution_count": 201,
   "metadata": {},
   "outputs": [
    {
     "name": "stdout",
     "output_type": "stream",
     "text": [
      "Cost after 25 / 100 intertation : 0.09824463607519518\n",
      "Cost after 50 / 100 intertation : 0.04200135087038907\n",
      "Cost after 75 / 100 intertation : 0.022336160710261416\n",
      "Cost after 100 / 100 intertation : 0.01560300800898864\n"
     ]
    }
   ],
   "source": [
    "#Fit model to normalised data using minmaxscaler\n",
    "#use alpha=0.01,iter=100\n",
    "\n",
    "final_theta, J, costs = lin_model_fit(X_train, y_train, 0.01, 100, True);"
   ]
  },
  {
   "cell_type": "code",
   "execution_count": null,
   "metadata": {},
   "outputs": [],
   "source": [
    "#draw combined graph of above models of cost V/s iterations\n"
   ]
  },
  {
   "cell_type": "code",
   "execution_count": 206,
   "metadata": {},
   "outputs": [
    {
     "name": "stdout",
     "output_type": "stream",
     "text": [
      "[[0.17155068]\n",
      " [0.17771103]\n",
      " [0.16350956]\n",
      " [0.18829076]\n",
      " [0.18189938]\n",
      " [0.18678509]]\n"
     ]
    }
   ],
   "source": [
    "#store best value of weights in weights_final\n",
    "weights_final = final_theta\n",
    "print(weights_final)"
   ]
  },
  {
   "cell_type": "code",
   "execution_count": 207,
   "metadata": {},
   "outputs": [],
   "source": [
    "#write function to use model on data for prediction\n",
    "def predict(X_temp, theta):\n",
    "    #your code here\n",
    "    prediction = hypo(theta, X_temp)\n",
    "    return prediction"
   ]
  },
  {
   "cell_type": "code",
   "execution_count": 208,
   "metadata": {},
   "outputs": [],
   "source": [
    "#Calculate accuracy \n",
    "\n",
    "def accuracy(y_temp,y_hat):\n",
    "    acc = cost(y_temp, y_hat)\n",
    "    return acc"
   ]
  },
  {
   "cell_type": "code",
   "execution_count": 209,
   "metadata": {},
   "outputs": [],
   "source": [
    "#call predict function to make predictions on test and train data\n",
    "#DO NOT EDIT\n",
    "pred_train=predict(X_train,weights_final)\n",
    "pred_test=predict(X_test,weights_final)\n"
   ]
  },
  {
   "cell_type": "code",
   "execution_count": 211,
   "metadata": {},
   "outputs": [
    {
     "name": "stdout",
     "output_type": "stream",
     "text": [
      "=============For train data:=============\n",
      "accuracy: 0.01560300800898864\n",
      "\n",
      "\n",
      "=============For test data================\n",
      "accuracy: 2911.9768150958234\n"
     ]
    }
   ],
   "source": [
    "#DO NOT EDIT\n",
    "print(\"=============For train data:=============\")\n",
    "acc1=accuracy(y_train,pred_train)\n",
    "print(\"accuracy:\",acc1)\n",
    "print(\"\\n\\n=============For test data================\")\n",
    "acc2=accuracy(y_test,pred_test)\n",
    "print(\"accuracy:\",acc2)"
   ]
  },
  {
   "cell_type": "markdown",
   "metadata": {},
   "source": [
    "The below cells plot y_hat vs y\n",
    "The closer the plot is to a straight line;The better your model"
   ]
  },
  {
   "cell_type": "code",
   "execution_count": 214,
   "metadata": {},
   "outputs": [
    {
     "data": {
      "image/png": "[encoded data removed]",
      "text/plain": [
       "<Figure size 432x288 with 1 Axes>"
      ]
     },
     "metadata": {
      "needs_background": "light"
     },
     "output_type": "display_data"
    }
   ],
   "source": [
    "plt.scatter(pred_train, y_train)\n",
    "plt.show()"
   ]
  },
  {
   "cell_type": "code",
   "execution_count": 215,
   "metadata": {},
   "outputs": [
    {
     "data": {
      "image/png": "[encoded data removed]",
      "text/plain": [
       "<Figure size 432x288 with 1 Axes>"
      ]
     },
     "metadata": {
      "needs_background": "light"
     },
     "output_type": "display_data"
    }
   ],
   "source": [
    "plt.scatter(pred_test, y_test)\n",
    "plt.show()"
   ]
  },
  {
   "cell_type": "markdown",
   "metadata": {},
   "source": [
    "The Below questions are optional and can be done for brownie points"
   ]
  },
  {
   "cell_type": "code",
   "execution_count": null,
   "metadata": {},
   "outputs": [],
   "source": [
    "#Try out hyperparameter tuning for alpha"
   ]
  },
  {
   "cell_type": "code",
   "execution_count": null,
   "metadata": {},
   "outputs": [],
   "source": [
    "#Print your best accuracy acheived and hyperparameter value"
   ]
  }
 ],
 "metadata": {
  "kernelspec": {
   "display_name": "Python 3",
   "language": "python",
   "name": "python3"
  },
  "language_info": {
   "codemirror_mode": {
    "name": "ipython",
    "version": 3
   },
   "file_extension": ".py",
   "mimetype": "text/x-python",
   "name": "python",
   "nbconvert_exporter": "python",
   "pygments_lexer": "ipython3",
   "version": "3.7.6"
  }
 },
 "nbformat": 4,
 "nbformat_minor": 4
}
